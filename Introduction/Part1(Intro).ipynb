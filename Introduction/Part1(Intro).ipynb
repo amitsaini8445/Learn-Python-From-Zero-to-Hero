{
 "cells": [
  {
   "cell_type": "markdown",
   "metadata": {},
   "source": [
    "# Introduction \n",
    "Python is a cross plateform programming language means it can learn many operating system such as windows, mac and Linux.\n",
    "\n",
    "It is general purpose, interpreted and dynamically typed language. \n",
    "Interpreted means python program execute line by line statement.\n",
    "Dynamic typed means we do not need to decalred any variable type before variable.\n",
    "\n"
   ]
  },
  {
   "cell_type": "code",
   "execution_count": 1,
   "metadata": {},
   "outputs": [
    {
     "name": "stdout",
     "output_type": "stream",
     "text": [
      "hello world\n"
     ]
    }
   ],
   "source": [
    "print(\"hello world\")"
   ]
  },
  {
   "cell_type": "markdown",
   "metadata": {},
   "source": [
    "# Install Python \n",
    "To install python go to the website https://www.python.org/ and download the latest version of python And to install the IDLE for python go to the website https://docs.anaconda.com/anaconda/install/windows/ and download the anaconda installer for windows\n"
   ]
  },
  {
   "cell_type": "code",
   "execution_count": null,
   "metadata": {},
   "outputs": [],
   "source": []
  }
 ],
 "metadata": {
  "kernelspec": {
   "display_name": "Python 3",
   "language": "python",
   "name": "python3"
  },
  "language_info": {
   "codemirror_mode": {
    "name": "ipython",
    "version": 3
   },
   "file_extension": ".py",
   "mimetype": "text/x-python",
   "name": "python",
   "nbconvert_exporter": "python",
   "pygments_lexer": "ipython3",
   "version": "3.8.5"
  }
 },
 "nbformat": 4,
 "nbformat_minor": 4
}
